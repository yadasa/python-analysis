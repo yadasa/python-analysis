{
 "cells": [
  {
   "cell_type": "code",
   "execution_count": 32,
   "metadata": {},
   "outputs": [],
   "source": [
    "# Import the necessary libraries\n",
    "from pathlib import Path\n",
    "import csv"
   ]
  },
  {
   "cell_type": "code",
   "execution_count": 33,
   "metadata": {},
   "outputs": [],
   "source": [
    "# Set variable with path to file\n",
    "csvpath = Path('Resources/budget_data.csv')"
   ]
  },
  {
   "cell_type": "code",
   "execution_count": 34,
   "metadata": {},
   "outputs": [],
   "source": [
    "# Initialize variables to be printed in final file\n",
    "months = 0\n",
    "total = 0\n",
    "avgChange = 0\n",
    "maxProfit = 0 \n",
    "maxLoss = 0\n",
    "previousValue = 0\n",
    "newValue = 0\n",
    "maxProfitDate = \"\"\n",
    "maxLossDate = \"\""
   ]
  },
  {
   "cell_type": "code",
   "execution_count": 38,
   "metadata": {},
   "outputs": [],
   "source": [
    "# Open the file as readable text, and initialize file reader\n",
    "with open(csvpath, 'r') as csvfile:\n",
    "    \n",
    "    csvreader = csv.reader(csvfile)\n",
    "    \n",
    "    with open('newcsv', 'w') as newfile:\n",
    "        csvwriter = csv.writer(newfile, delimiter = ',')\n",
    "        \n",
    "        csvheader = next(csvreader)\n",
    "       \n",
    "        for row in csvreader:\n",
    "            number = int(row[1])\n",
    "            date = str(row[0])\n",
    "            months += 1\n",
    "            total += number\n",
    "            newValue = number\n",
    "            difference = newValue - previousValue\n",
    "            previousValue = number\n",
    "            \n",
    "            if difference > maxProfit:\n",
    "                maxProfit = difference\n",
    "                maxProfitDate = date\n",
    "            elif difference < maxLoss:\n",
    "                maxLoss = difference\n",
    "                maxLossDate = date\n",
    "            else:\n",
    "                maxLoss = maxLoss\n",
    "        avgChange = (maxProfit + maxLoss)/months\n",
    "        csvwriter.writerow(f\"Total Months: {months}\")\n",
    "        csvwriter.writerow(f\"Total P/L: {total}\")\n",
    "        csvwriter.writerow(f\"Average Change: {avgChange}\")\n",
    "        csvwriter.writerow(f\"Greatest Increase in Profits: {maxProfitDate} {maxProfit}\")\n",
    "        csvwriter.writerow(f\"Greatest Loss in Profits: {maxLossDate} {maxLoss}\")"
   ]
  },
  {
   "cell_type": "code",
   "execution_count": null,
   "metadata": {},
   "outputs": [],
   "source": []
  },
  {
   "cell_type": "code",
   "execution_count": null,
   "metadata": {},
   "outputs": [],
   "source": []
  },
  {
   "cell_type": "code",
   "execution_count": null,
   "metadata": {},
   "outputs": [],
   "source": []
  },
  {
   "cell_type": "code",
   "execution_count": null,
   "metadata": {},
   "outputs": [],
   "source": []
  }
 ],
 "metadata": {
  "kernelspec": {
   "display_name": "Python 3",
   "language": "python",
   "name": "python3"
  },
  "language_info": {
   "codemirror_mode": {
    "name": "ipython",
    "version": 3
   },
   "file_extension": ".py",
   "mimetype": "text/x-python",
   "name": "python",
   "nbconvert_exporter": "python",
   "pygments_lexer": "ipython3",
   "version": "3.8.5"
  }
 },
 "nbformat": 4,
 "nbformat_minor": 4
}
